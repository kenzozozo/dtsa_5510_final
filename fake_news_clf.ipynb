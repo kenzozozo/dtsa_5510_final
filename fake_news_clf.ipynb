{
 "cells": [
  {
   "cell_type": "markdown",
   "metadata": {},
   "source": [
    "# Fake News Classification\n",
    "We are given a set of news articles and their titles. They are indicated as either fake or not with a binary classifier.\n",
    "\n",
    "The nature of the problem suggests that there's some way to tell these types of articles apart, and we need to take it on good faith that the classification is correct, as determining real-world \"truth\" value would be difficult here.\n",
    "\n",
    "The hypthesis to this challenge is that there is some latent factor or some indicator for \"fake news\" based on the language used within the article and title itself.\n",
    "\n",
    "Using nlp text processing techniques and a selection of unsupervised learning models, we will attempt to classify these articles as fake or not.\n",
    "\n",
    "The feature engineering will be important here, so we will utilize a few methodologies to massage the data into the correct shape, such as:\n",
    "- count vectorization\n",
    "- tf-idf vectorization\n",
    "\n",
    "In order to predict the labels, we will need to utilize ML models to accomplish this task. The models to be employed include:\n",
    "\n",
    "- matrix factorization\n",
    "- jaccard similarity\n",
    "- cosine similarity\n",
    "\n",
    "And finally, to aid in visualization, I hope to use the **T-SNE** algorithm to visualize clusters in a scatter chart. T-SNE is useful for reducing high dimensional data to a space that can be visualized more easily.\n",
    "\n",
    "The data was lifted from the kaggle \"Fake News Classification\" project, <a href=\"https://www.kaggle.com/datasets/aadyasingh55/fake-news-classification/data\">found at this link</a>"
   ]
  },
  {
   "cell_type": "code",
   "execution_count": 86,
   "metadata": {},
   "outputs": [],
   "source": [
    "import pandas as pd\n",
    "import numpy as np\n",
    "from sklearn.feature_extraction.text import TfidfVectorizer, CountVectorizer\n",
    "from sklearn.decomposition import NMF, LatentDirichletAllocation\n",
    "from sklearn.linear_model import LogisticRegression\n",
    "from sklearn.metrics import accuracy_score, confusion_matrix, classification_report\n",
    "from sklearn.pipeline import Pipeline\n",
    "import tqdm # process bar for loops\n",
    "import matplotlib.pyplot as plt # for plotting & visualization\n",
    "import nltk # for cleaning up the text data"
   ]
  },
  {
   "cell_type": "code",
   "execution_count": 87,
   "metadata": {},
   "outputs": [
    {
     "data": {
      "text/plain": [
       "[('data', [], ['evaluation.csv', 'test (1).csv', 'train (2).csv'])]"
      ]
     },
     "execution_count": 87,
     "metadata": {},
     "output_type": "execute_result"
    }
   ],
   "source": [
    "import os\n",
    "list(os.walk('data'))"
   ]
  },
  {
   "cell_type": "code",
   "execution_count": 88,
   "metadata": {},
   "outputs": [],
   "source": [
    "test = pd.read_csv(r\"data\\test (1).csv\", delimiter=\";\")\n",
    "train = pd.read_csv(r\"data\\train (2).csv\", delimiter=\";\")\n",
    "evaluation = pd.read_csv(r\"data\\evaluation.csv\", delimiter=\";\")"
   ]
  },
  {
   "cell_type": "code",
   "execution_count": 89,
   "metadata": {},
   "outputs": [
    {
     "data": {
      "text/html": [
       "<div>\n",
       "<style scoped>\n",
       "    .dataframe tbody tr th:only-of-type {\n",
       "        vertical-align: middle;\n",
       "    }\n",
       "\n",
       "    .dataframe tbody tr th {\n",
       "        vertical-align: top;\n",
       "    }\n",
       "\n",
       "    .dataframe thead th {\n",
       "        text-align: right;\n",
       "    }\n",
       "</style>\n",
       "<table border=\"1\" class=\"dataframe\">\n",
       "  <thead>\n",
       "    <tr style=\"text-align: right;\">\n",
       "      <th></th>\n",
       "      <th>Unnamed: 0</th>\n",
       "      <th>title</th>\n",
       "      <th>text</th>\n",
       "      <th>label</th>\n",
       "    </tr>\n",
       "  </thead>\n",
       "  <tbody>\n",
       "    <tr>\n",
       "      <th>0</th>\n",
       "      <td>0</td>\n",
       "      <td>Palestinians switch off Christmas lights in Be...</td>\n",
       "      <td>RAMALLAH, West Bank (Reuters) - Palestinians s...</td>\n",
       "      <td>1</td>\n",
       "    </tr>\n",
       "    <tr>\n",
       "      <th>1</th>\n",
       "      <td>1</td>\n",
       "      <td>China says Trump call with Taiwan president wo...</td>\n",
       "      <td>BEIJING (Reuters) - U.S. President-elect Donal...</td>\n",
       "      <td>1</td>\n",
       "    </tr>\n",
       "    <tr>\n",
       "      <th>2</th>\n",
       "      <td>2</td>\n",
       "      <td>FAIL! The Trump Organization’s Credit Score W...</td>\n",
       "      <td>While the controversy over Trump s personal ta...</td>\n",
       "      <td>0</td>\n",
       "    </tr>\n",
       "    <tr>\n",
       "      <th>3</th>\n",
       "      <td>3</td>\n",
       "      <td>Zimbabwe military chief's China trip was norma...</td>\n",
       "      <td>BEIJING (Reuters) - A trip to Beijing last wee...</td>\n",
       "      <td>1</td>\n",
       "    </tr>\n",
       "    <tr>\n",
       "      <th>4</th>\n",
       "      <td>4</td>\n",
       "      <td>THE MOST UNCOURAGEOUS PRESIDENT EVER Receives ...</td>\n",
       "      <td>There has never been a more UNCOURAGEOUS perso...</td>\n",
       "      <td>0</td>\n",
       "    </tr>\n",
       "  </tbody>\n",
       "</table>\n",
       "</div>"
      ],
      "text/plain": [
       "   Unnamed: 0                                              title  \\\n",
       "0           0  Palestinians switch off Christmas lights in Be...   \n",
       "1           1  China says Trump call with Taiwan president wo...   \n",
       "2           2   FAIL! The Trump Organization’s Credit Score W...   \n",
       "3           3  Zimbabwe military chief's China trip was norma...   \n",
       "4           4  THE MOST UNCOURAGEOUS PRESIDENT EVER Receives ...   \n",
       "\n",
       "                                                text  label  \n",
       "0  RAMALLAH, West Bank (Reuters) - Palestinians s...      1  \n",
       "1  BEIJING (Reuters) - U.S. President-elect Donal...      1  \n",
       "2  While the controversy over Trump s personal ta...      0  \n",
       "3  BEIJING (Reuters) - A trip to Beijing last wee...      1  \n",
       "4  There has never been a more UNCOURAGEOUS perso...      0  "
      ]
     },
     "execution_count": 89,
     "metadata": {},
     "output_type": "execute_result"
    }
   ],
   "source": [
    "train.head()"
   ]
  },
  {
   "cell_type": "markdown",
   "metadata": {},
   "source": [
    "The label of 1 appears to be real, and 0 appears to be fake."
   ]
  },
  {
   "cell_type": "markdown",
   "metadata": {},
   "source": [
    "# Exploratory Data Analysis\n",
    "I primarily want to see which words are highly correlated between article types, and then expand that out into bigrams and trigrams as well."
   ]
  },
  {
   "cell_type": "code",
   "execution_count": 90,
   "metadata": {},
   "outputs": [
    {
     "data": {
      "text/html": [
       "<div>\n",
       "<style scoped>\n",
       "    .dataframe tbody tr th:only-of-type {\n",
       "        vertical-align: middle;\n",
       "    }\n",
       "\n",
       "    .dataframe tbody tr th {\n",
       "        vertical-align: top;\n",
       "    }\n",
       "\n",
       "    .dataframe thead th {\n",
       "        text-align: right;\n",
       "    }\n",
       "</style>\n",
       "<table border=\"1\" class=\"dataframe\">\n",
       "  <thead>\n",
       "    <tr style=\"text-align: right;\">\n",
       "      <th></th>\n",
       "      <th>Unnamed: 0</th>\n",
       "      <th>title</th>\n",
       "      <th>text</th>\n",
       "      <th>label</th>\n",
       "      <th>cleaned_text</th>\n",
       "      <th>split_tokens</th>\n",
       "      <th>filtered_tokens</th>\n",
       "      <th>counted_tokens</th>\n",
       "    </tr>\n",
       "  </thead>\n",
       "  <tbody>\n",
       "    <tr>\n",
       "      <th>0</th>\n",
       "      <td>0</td>\n",
       "      <td>Palestinians switch off Christmas lights in Be...</td>\n",
       "      <td>ramallah west bank reuters palestinians switch...</td>\n",
       "      <td>1</td>\n",
       "      <td>RAMALLAH West Bank Reuters  Palestinians switc...</td>\n",
       "      <td>[RAMALLAH, West, Bank, Reuters, Palestinians, ...</td>\n",
       "      <td>[ramallah, west, bank, reuters, palestinians, ...</td>\n",
       "      <td>{'ramallah': 2, 'west': 1, 'bank': 1, 'reuters...</td>\n",
       "    </tr>\n",
       "    <tr>\n",
       "      <th>1</th>\n",
       "      <td>1</td>\n",
       "      <td>China says Trump call with Taiwan president wo...</td>\n",
       "      <td>beijing reuters us presidentelect donald trump...</td>\n",
       "      <td>1</td>\n",
       "      <td>BEIJING Reuters  US Presidentelect Donald Trum...</td>\n",
       "      <td>[BEIJING, Reuters, US, Presidentelect, Donald,...</td>\n",
       "      <td>[beijing, reuters, us, presidentelect, donald,...</td>\n",
       "      <td>{'beijing': 1, 'reuters': 1, 'us': 1, 'preside...</td>\n",
       "    </tr>\n",
       "  </tbody>\n",
       "</table>\n",
       "</div>"
      ],
      "text/plain": [
       "   Unnamed: 0                                              title  \\\n",
       "0           0  Palestinians switch off Christmas lights in Be...   \n",
       "1           1  China says Trump call with Taiwan president wo...   \n",
       "\n",
       "                                                text  label  \\\n",
       "0  ramallah west bank reuters palestinians switch...      1   \n",
       "1  beijing reuters us presidentelect donald trump...      1   \n",
       "\n",
       "                                        cleaned_text  \\\n",
       "0  RAMALLAH West Bank Reuters  Palestinians switc...   \n",
       "1  BEIJING Reuters  US Presidentelect Donald Trum...   \n",
       "\n",
       "                                        split_tokens  \\\n",
       "0  [RAMALLAH, West, Bank, Reuters, Palestinians, ...   \n",
       "1  [BEIJING, Reuters, US, Presidentelect, Donald,...   \n",
       "\n",
       "                                     filtered_tokens  \\\n",
       "0  [ramallah, west, bank, reuters, palestinians, ...   \n",
       "1  [beijing, reuters, us, presidentelect, donald,...   \n",
       "\n",
       "                                      counted_tokens  \n",
       "0  {'ramallah': 2, 'west': 1, 'bank': 1, 'reuters...  \n",
       "1  {'beijing': 1, 'reuters': 1, 'us': 1, 'preside...  "
      ]
     },
     "execution_count": 90,
     "metadata": {},
     "output_type": "execute_result"
    }
   ],
   "source": [
    "from collections import Counter\n",
    "import re\n",
    "from nltk.tokenize import word_tokenize\n",
    "\n",
    "# per article count individual tokens\n",
    "eda_df = train.copy()\n",
    "\n",
    "stop_words = set(nltk.corpus.stopwords.words('english'))\n",
    "english_words = set(nltk.corpus.words.words())\n",
    "punctuation_re = re.compile(r'[^\\w\\s]')\n",
    "\n",
    "# Function to clean and tokenize text\n",
    "def process_data(df):\n",
    "    # Remove punctuation\n",
    "    df['cleaned_text'] = df['text'].str.replace(punctuation_re, '', regex=True)\n",
    "    # Tokenize\n",
    "    df['split_tokens'] = df['cleaned_text'].apply(word_tokenize)\n",
    "    # Lowercase all tokens and filter out non-English words and stopwords\n",
    "    def filter_tokens(tokens):\n",
    "        return [word.lower() for word in tokens if word.lower() not in stop_words]\n",
    "\n",
    "    df['filtered_tokens'] = df['split_tokens'].apply(filter_tokens)\n",
    "    # Count tokens\n",
    "    df['counted_tokens'] = df['filtered_tokens'].apply(Counter)\n",
    "    # reconstitute the text\n",
    "    df['text'] = df['filtered_tokens'].apply(lambda x: ' '.join(x))\n",
    "    return df\n",
    "\n",
    "eda_df = process_data(eda_df)\n",
    "eda_df.head(2)"
   ]
  },
  {
   "cell_type": "code",
   "execution_count": 91,
   "metadata": {},
   "outputs": [],
   "source": [
    "# prepare receiver dictionary to store word counts\n",
    "wordcount_dict = dict()\n",
    "wordcount_dict[1] = dict()\n",
    "wordcount_dict[0] = dict()\n",
    "# iterate over each row of the dataframe and add the token counts to the receiver dictionary\n",
    "for row in eda_df.iterrows():\n",
    "    label = row[1]['label']\n",
    "    for token in row[1]['counted_tokens'].items():\n",
    "        if token[0] in wordcount_dict[label]:\n",
    "            wordcount_dict[label][token[0]] += token[1]\n",
    "        else:\n",
    "            wordcount_dict[label][token[0]] = token[1]"
   ]
  },
  {
   "cell_type": "code",
   "execution_count": 92,
   "metadata": {},
   "outputs": [
    {
     "data": {
      "text/html": [
       "<div>\n",
       "<style scoped>\n",
       "    .dataframe tbody tr th:only-of-type {\n",
       "        vertical-align: middle;\n",
       "    }\n",
       "\n",
       "    .dataframe tbody tr th {\n",
       "        vertical-align: top;\n",
       "    }\n",
       "\n",
       "    .dataframe thead th {\n",
       "        text-align: right;\n",
       "    }\n",
       "</style>\n",
       "<table border=\"1\" class=\"dataframe\">\n",
       "  <thead>\n",
       "    <tr style=\"text-align: right;\">\n",
       "      <th></th>\n",
       "      <th>1</th>\n",
       "      <th>0</th>\n",
       "    </tr>\n",
       "  </thead>\n",
       "  <tbody>\n",
       "    <tr>\n",
       "      <th>said</th>\n",
       "      <td>59987.0</td>\n",
       "      <td>14477.0</td>\n",
       "    </tr>\n",
       "    <tr>\n",
       "      <th>trump</th>\n",
       "      <td>26716.0</td>\n",
       "      <td>38867.0</td>\n",
       "    </tr>\n",
       "    <tr>\n",
       "      <th>us</th>\n",
       "      <td>25423.0</td>\n",
       "      <td>9521.0</td>\n",
       "    </tr>\n",
       "    <tr>\n",
       "      <th>would</th>\n",
       "      <td>19515.0</td>\n",
       "      <td>11532.0</td>\n",
       "    </tr>\n",
       "    <tr>\n",
       "      <th>reuters</th>\n",
       "      <td>17045.0</td>\n",
       "      <td>186.0</td>\n",
       "    </tr>\n",
       "    <tr>\n",
       "      <th>...</th>\n",
       "      <td>...</td>\n",
       "      <td>...</td>\n",
       "    </tr>\n",
       "    <tr>\n",
       "      <th>8009641800</th>\n",
       "      <td>NaN</td>\n",
       "      <td>1.0</td>\n",
       "    </tr>\n",
       "    <tr>\n",
       "      <th>tweetheart</th>\n",
       "      <td>NaN</td>\n",
       "      <td>1.0</td>\n",
       "    </tr>\n",
       "    <tr>\n",
       "      <th>tweetheart2017</th>\n",
       "      <td>NaN</td>\n",
       "      <td>1.0</td>\n",
       "    </tr>\n",
       "    <tr>\n",
       "      <th>divethis</th>\n",
       "      <td>NaN</td>\n",
       "      <td>1.0</td>\n",
       "    </tr>\n",
       "    <tr>\n",
       "      <th>seasonbut</th>\n",
       "      <td>NaN</td>\n",
       "      <td>1.0</td>\n",
       "    </tr>\n",
       "  </tbody>\n",
       "</table>\n",
       "<p>176198 rows × 2 columns</p>\n",
       "</div>"
      ],
      "text/plain": [
       "                      1        0\n",
       "said            59987.0  14477.0\n",
       "trump           26716.0  38867.0\n",
       "us              25423.0   9521.0\n",
       "would           19515.0  11532.0\n",
       "reuters         17045.0    186.0\n",
       "...                 ...      ...\n",
       "8009641800          NaN      1.0\n",
       "tweetheart          NaN      1.0\n",
       "tweetheart2017      NaN      1.0\n",
       "divethis            NaN      1.0\n",
       "seasonbut           NaN      1.0\n",
       "\n",
       "[176198 rows x 2 columns]"
      ]
     },
     "execution_count": 92,
     "metadata": {},
     "output_type": "execute_result"
    }
   ],
   "source": [
    "count_by_class = (\n",
    "    pd\n",
    "    .DataFrame(wordcount_dict)\n",
    "    .sort_values(\n",
    "        by=1, \n",
    "        ascending=False\n",
    "    )\n",
    ")\n",
    "count_by_class"
   ]
  },
  {
   "cell_type": "markdown",
   "metadata": {},
   "source": [
    "### Adding entropy as a metric\n",
    "I am interested to see how the words are aligned by fake/real article based on their entropy. This metric should help us to quantify their ability to determine the purity of the set that they are in."
   ]
  },
  {
   "cell_type": "code",
   "execution_count": 93,
   "metadata": {},
   "outputs": [],
   "source": [
    "counted_words = (\n",
    "    count_by_class\n",
    "    .reset_index()\n",
    "    .rename(\n",
    "        columns={'index':'word'}\n",
    "    )\n",
    ")\n",
    "# filter out stopwords\n",
    "real_words_only = counted_words[counted_words['word'].isin(nltk.corpus.words.words())]\n",
    "metrics_added = counted_words.copy()\n",
    "# add metrics to do some more exploration\n",
    "metrics_added['prob_fake'] = metrics_added[0] / (metrics_added[1] + metrics_added[0])\n",
    "metrics_added['prob_real'] = metrics_added[1] / (metrics_added[1] + metrics_added[0])\n",
    "# calculate entropy to show the ability for one word to predict the class\n",
    "metrics_added['entropy'] = -1 * (\n",
    "    metrics_added['prob_fake'] * np.log2(metrics_added['prob_fake']) +\n",
    "    metrics_added['prob_real'] * np.log2(metrics_added['prob_real'])\n",
    ")\n",
    "# rename columns\n",
    "metrics_added.rename(columns={0:'fake_count', 1:'real_count'}, inplace=True)\n",
    "metrics_added['total_count'] = metrics_added['fake_count'] + metrics_added['real_count']\n"
   ]
  },
  {
   "cell_type": "code",
   "execution_count": 94,
   "metadata": {},
   "outputs": [
    {
     "data": {
      "text/html": [
       "<div>\n",
       "<style scoped>\n",
       "    .dataframe tbody tr th:only-of-type {\n",
       "        vertical-align: middle;\n",
       "    }\n",
       "\n",
       "    .dataframe tbody tr th {\n",
       "        vertical-align: top;\n",
       "    }\n",
       "\n",
       "    .dataframe thead th {\n",
       "        text-align: right;\n",
       "    }\n",
       "</style>\n",
       "<table border=\"1\" class=\"dataframe\">\n",
       "  <thead>\n",
       "    <tr style=\"text-align: right;\">\n",
       "      <th></th>\n",
       "      <th>word</th>\n",
       "      <th>real_count</th>\n",
       "      <th>fake_count</th>\n",
       "      <th>prob_fake</th>\n",
       "      <th>prob_real</th>\n",
       "      <th>entropy</th>\n",
       "      <th>total_count</th>\n",
       "    </tr>\n",
       "  </thead>\n",
       "  <tbody>\n",
       "    <tr>\n",
       "      <th>412</th>\n",
       "      <td>rohingya</td>\n",
       "      <td>1262.0</td>\n",
       "      <td>1.0</td>\n",
       "      <td>0.000792</td>\n",
       "      <td>0.999208</td>\n",
       "      <td>0.009299</td>\n",
       "      <td>1263.0</td>\n",
       "    </tr>\n",
       "    <tr>\n",
       "      <th>247</th>\n",
       "      <td>myanmar</td>\n",
       "      <td>1734.0</td>\n",
       "      <td>2.0</td>\n",
       "      <td>0.001152</td>\n",
       "      <td>0.998848</td>\n",
       "      <td>0.012907</td>\n",
       "      <td>1736.0</td>\n",
       "    </tr>\n",
       "    <tr>\n",
       "      <th>1246</th>\n",
       "      <td>hariri</td>\n",
       "      <td>487.0</td>\n",
       "      <td>1.0</td>\n",
       "      <td>0.002049</td>\n",
       "      <td>0.997951</td>\n",
       "      <td>0.021254</td>\n",
       "      <td>488.0</td>\n",
       "    </tr>\n",
       "    <tr>\n",
       "      <th>1579</th>\n",
       "      <td>spd</td>\n",
       "      <td>380.0</td>\n",
       "      <td>1.0</td>\n",
       "      <td>0.002625</td>\n",
       "      <td>0.997375</td>\n",
       "      <td>0.026285</td>\n",
       "      <td>381.0</td>\n",
       "    </tr>\n",
       "    <tr>\n",
       "      <th>1058</th>\n",
       "      <td>catalonia</td>\n",
       "      <td>569.0</td>\n",
       "      <td>2.0</td>\n",
       "      <td>0.003503</td>\n",
       "      <td>0.996497</td>\n",
       "      <td>0.033617</td>\n",
       "      <td>571.0</td>\n",
       "    </tr>\n",
       "    <tr>\n",
       "      <th>2600</th>\n",
       "      <td>hun</td>\n",
       "      <td>209.0</td>\n",
       "      <td>1.0</td>\n",
       "      <td>0.004762</td>\n",
       "      <td>0.995238</td>\n",
       "      <td>0.043588</td>\n",
       "      <td>210.0</td>\n",
       "    </tr>\n",
       "    <tr>\n",
       "      <th>2703</th>\n",
       "      <td>alzor</td>\n",
       "      <td>198.0</td>\n",
       "      <td>1.0</td>\n",
       "      <td>0.005025</td>\n",
       "      <td>0.994975</td>\n",
       "      <td>0.045606</td>\n",
       "      <td>199.0</td>\n",
       "    </tr>\n",
       "    <tr>\n",
       "      <th>1533</th>\n",
       "      <td>ite</td>\n",
       "      <td>391.0</td>\n",
       "      <td>2.0</td>\n",
       "      <td>0.005089</td>\n",
       "      <td>0.994911</td>\n",
       "      <td>0.046094</td>\n",
       "      <td>393.0</td>\n",
       "    </tr>\n",
       "    <tr>\n",
       "      <th>2786</th>\n",
       "      <td>corrects</td>\n",
       "      <td>192.0</td>\n",
       "      <td>1.0</td>\n",
       "      <td>0.005181</td>\n",
       "      <td>0.994819</td>\n",
       "      <td>0.046795</td>\n",
       "      <td>193.0</td>\n",
       "    </tr>\n",
       "    <tr>\n",
       "      <th>2811</th>\n",
       "      <td>temer</td>\n",
       "      <td>190.0</td>\n",
       "      <td>1.0</td>\n",
       "      <td>0.005236</td>\n",
       "      <td>0.994764</td>\n",
       "      <td>0.047206</td>\n",
       "      <td>191.0</td>\n",
       "    </tr>\n",
       "  </tbody>\n",
       "</table>\n",
       "</div>"
      ],
      "text/plain": [
       "           word  real_count  fake_count  prob_fake  prob_real   entropy  \\\n",
       "412    rohingya      1262.0         1.0   0.000792   0.999208  0.009299   \n",
       "247     myanmar      1734.0         2.0   0.001152   0.998848  0.012907   \n",
       "1246     hariri       487.0         1.0   0.002049   0.997951  0.021254   \n",
       "1579        spd       380.0         1.0   0.002625   0.997375  0.026285   \n",
       "1058  catalonia       569.0         2.0   0.003503   0.996497  0.033617   \n",
       "2600        hun       209.0         1.0   0.004762   0.995238  0.043588   \n",
       "2703      alzor       198.0         1.0   0.005025   0.994975  0.045606   \n",
       "1533        ite       391.0         2.0   0.005089   0.994911  0.046094   \n",
       "2786   corrects       192.0         1.0   0.005181   0.994819  0.046795   \n",
       "2811      temer       190.0         1.0   0.005236   0.994764  0.047206   \n",
       "\n",
       "      total_count  \n",
       "412        1263.0  \n",
       "247        1736.0  \n",
       "1246        488.0  \n",
       "1579        381.0  \n",
       "1058        571.0  \n",
       "2600        210.0  \n",
       "2703        199.0  \n",
       "1533        393.0  \n",
       "2786        193.0  \n",
       "2811        191.0  "
      ]
     },
     "execution_count": 94,
     "metadata": {},
     "output_type": "execute_result"
    }
   ],
   "source": [
    "likely_fake_token_indicators = metrics_added[(metrics_added['prob_fake'] < metrics_added['prob_real']) & \n",
    "              (metrics_added['total_count'] > 100)].sort_values(by='entropy').head(10)\n",
    "likely_fake_token_indicators"
   ]
  },
  {
   "cell_type": "code",
   "execution_count": 95,
   "metadata": {},
   "outputs": [
    {
     "data": {
      "text/html": [
       "<div>\n",
       "<style scoped>\n",
       "    .dataframe tbody tr th:only-of-type {\n",
       "        vertical-align: middle;\n",
       "    }\n",
       "\n",
       "    .dataframe tbody tr th {\n",
       "        vertical-align: top;\n",
       "    }\n",
       "\n",
       "    .dataframe thead th {\n",
       "        text-align: right;\n",
       "    }\n",
       "</style>\n",
       "<table border=\"1\" class=\"dataframe\">\n",
       "  <thead>\n",
       "    <tr style=\"text-align: right;\">\n",
       "      <th></th>\n",
       "      <th>word</th>\n",
       "      <th>real_count</th>\n",
       "      <th>fake_count</th>\n",
       "      <th>prob_fake</th>\n",
       "      <th>prob_real</th>\n",
       "      <th>entropy</th>\n",
       "      <th>total_count</th>\n",
       "    </tr>\n",
       "  </thead>\n",
       "  <tbody>\n",
       "    <tr>\n",
       "      <th>36005</th>\n",
       "      <td>reilly</td>\n",
       "      <td>2.0</td>\n",
       "      <td>412.0</td>\n",
       "      <td>0.995169</td>\n",
       "      <td>0.004831</td>\n",
       "      <td>0.044119</td>\n",
       "      <td>414.0</td>\n",
       "    </tr>\n",
       "    <tr>\n",
       "      <th>58320</th>\n",
       "      <td>boiler</td>\n",
       "      <td>1.0</td>\n",
       "      <td>201.0</td>\n",
       "      <td>0.995050</td>\n",
       "      <td>0.004950</td>\n",
       "      <td>0.045036</td>\n",
       "      <td>202.0</td>\n",
       "    </tr>\n",
       "    <tr>\n",
       "      <th>29622</th>\n",
       "      <td>screenshot</td>\n",
       "      <td>3.0</td>\n",
       "      <td>587.0</td>\n",
       "      <td>0.994915</td>\n",
       "      <td>0.005085</td>\n",
       "      <td>0.046061</td>\n",
       "      <td>590.0</td>\n",
       "    </tr>\n",
       "    <tr>\n",
       "      <th>71057</th>\n",
       "      <td>somodevillagetty</td>\n",
       "      <td>1.0</td>\n",
       "      <td>179.0</td>\n",
       "      <td>0.994444</td>\n",
       "      <td>0.005556</td>\n",
       "      <td>0.049614</td>\n",
       "      <td>180.0</td>\n",
       "    </tr>\n",
       "    <tr>\n",
       "      <th>49885</th>\n",
       "      <td>fck</td>\n",
       "      <td>1.0</td>\n",
       "      <td>155.0</td>\n",
       "      <td>0.993590</td>\n",
       "      <td>0.006410</td>\n",
       "      <td>0.055920</td>\n",
       "      <td>156.0</td>\n",
       "    </tr>\n",
       "    <tr>\n",
       "      <th>47866</th>\n",
       "      <td>wonggetty</td>\n",
       "      <td>1.0</td>\n",
       "      <td>153.0</td>\n",
       "      <td>0.993506</td>\n",
       "      <td>0.006494</td>\n",
       "      <td>0.056525</td>\n",
       "      <td>154.0</td>\n",
       "    </tr>\n",
       "    <tr>\n",
       "      <th>53147</th>\n",
       "      <td>lemon</td>\n",
       "      <td>1.0</td>\n",
       "      <td>120.0</td>\n",
       "      <td>0.991736</td>\n",
       "      <td>0.008264</td>\n",
       "      <td>0.069054</td>\n",
       "      <td>121.0</td>\n",
       "    </tr>\n",
       "    <tr>\n",
       "      <th>46997</th>\n",
       "      <td>sht</td>\n",
       "      <td>1.0</td>\n",
       "      <td>119.0</td>\n",
       "      <td>0.991667</td>\n",
       "      <td>0.008333</td>\n",
       "      <td>0.069530</td>\n",
       "      <td>120.0</td>\n",
       "    </tr>\n",
       "    <tr>\n",
       "      <th>51867</th>\n",
       "      <td>fcking</td>\n",
       "      <td>1.0</td>\n",
       "      <td>115.0</td>\n",
       "      <td>0.991379</td>\n",
       "      <td>0.008621</td>\n",
       "      <td>0.071504</td>\n",
       "      <td>116.0</td>\n",
       "    </tr>\n",
       "    <tr>\n",
       "      <th>36500</th>\n",
       "      <td>infowars</td>\n",
       "      <td>2.0</td>\n",
       "      <td>225.0</td>\n",
       "      <td>0.991189</td>\n",
       "      <td>0.008811</td>\n",
       "      <td>0.072801</td>\n",
       "      <td>227.0</td>\n",
       "    </tr>\n",
       "  </tbody>\n",
       "</table>\n",
       "</div>"
      ],
      "text/plain": [
       "                   word  real_count  fake_count  prob_fake  prob_real  \\\n",
       "36005            reilly         2.0       412.0   0.995169   0.004831   \n",
       "58320            boiler         1.0       201.0   0.995050   0.004950   \n",
       "29622        screenshot         3.0       587.0   0.994915   0.005085   \n",
       "71057  somodevillagetty         1.0       179.0   0.994444   0.005556   \n",
       "49885               fck         1.0       155.0   0.993590   0.006410   \n",
       "47866         wonggetty         1.0       153.0   0.993506   0.006494   \n",
       "53147             lemon         1.0       120.0   0.991736   0.008264   \n",
       "46997               sht         1.0       119.0   0.991667   0.008333   \n",
       "51867            fcking         1.0       115.0   0.991379   0.008621   \n",
       "36500          infowars         2.0       225.0   0.991189   0.008811   \n",
       "\n",
       "        entropy  total_count  \n",
       "36005  0.044119        414.0  \n",
       "58320  0.045036        202.0  \n",
       "29622  0.046061        590.0  \n",
       "71057  0.049614        180.0  \n",
       "49885  0.055920        156.0  \n",
       "47866  0.056525        154.0  \n",
       "53147  0.069054        121.0  \n",
       "46997  0.069530        120.0  \n",
       "51867  0.071504        116.0  \n",
       "36500  0.072801        227.0  "
      ]
     },
     "execution_count": 95,
     "metadata": {},
     "output_type": "execute_result"
    }
   ],
   "source": [
    "likely_real_token_indicators = metrics_added[(metrics_added['prob_fake'] > metrics_added['prob_real']) & \n",
    "              (metrics_added['total_count'] > 100)].sort_values(by='entropy').head(10)\n",
    "likely_real_token_indicators"
   ]
  },
  {
   "cell_type": "markdown",
   "metadata": {},
   "source": [
    "# EDA Result\n",
    "The interesting thing revealed by adding the entropy metric shows that \"real\" articles have a large number of place names like Barcelona, Zimbabwe, or Bangkok. The supposed \"fake\" articles tend to have no discernible pattern for low-entropy indicators. Some of the words in the \"fake\" articles don't even appear to be real words, like er, das, and tapper. Very interesting results."
   ]
  },
  {
   "cell_type": "markdown",
   "metadata": {},
   "source": [
    "# Count Vectorized prediction with NMF\n",
    "As a baseline, we will use count-vectorized tokens to feed into the NMF unsupervised classifier to see how well the data is naturally segregated."
   ]
  },
  {
   "cell_type": "markdown",
   "metadata": {},
   "source": [
    "# Count vectorized NMF Experiment"
   ]
  },
  {
   "cell_type": "code",
   "execution_count": null,
   "metadata": {},
   "outputs": [],
   "source": [
    "# stage model\n",
    "nmf = NMF(n_components=2, random_state=1, init='nndsvd')\n",
    "count_vectorizer = CountVectorizer(max_df=0.95, min_df=2, stop_words='english')\n",
    "cleaned_data = process_data(train.copy())\n",
    "vectorized_data = count_vectorizer.fit_transform(cleaned_data['text'])\n",
    "nmf_data = nmf.fit_transform(vectorized_data)\n",
    "component_labels = nmf_data.argmax(axis=1)\n",
    "confusion_matrix(cleaned_data['label'], component_labels)"
   ]
  },
  {
   "cell_type": "code",
   "execution_count": null,
   "metadata": {},
   "outputs": [],
   "source": [
    "print(classification_report(cleaned_data['label'], component_labels))"
   ]
  },
  {
   "cell_type": "markdown",
   "metadata": {},
   "source": [
    "# Count Vectorized Articles with NMF - Result\n",
    "As predicted, the count vectorizer performed extremely poorly, mapping almost everything to the 0 (Fake) category, and achieving an accuracy rate of 32%, less accurate than a coin toss.\n",
    "\n",
    "That's fine! We can only improve from here!\n",
    "\n",
    "With this as our baseline, I will begin working iteratively on better approaches."
   ]
  },
  {
   "cell_type": "markdown",
   "metadata": {},
   "source": [
    "# TF-IDF Vectorized Articles with NMF\n",
    "Using a more sophisticated vectorization procedure may yield better results. Per the EDA step above, we were able to determine that the most common terms have significant overlap between the fake and real articles. TF-IDF will hopefully resolve that issue."
   ]
  },
  {
   "cell_type": "code",
   "execution_count": 103,
   "metadata": {},
   "outputs": [],
   "source": [
    "nmf = NMF(n_components=2, random_state=1, init='nndsvd')\n",
    "tfidf_vectorizer = TfidfVectorizer(max_df=0.95, min_df=2, stop_words='english')"
   ]
  },
  {
   "cell_type": "code",
   "execution_count": 104,
   "metadata": {},
   "outputs": [
    {
     "data": {
      "text/plain": [
       "array([[9254, 1853],\n",
       "       [3641, 9605]], dtype=int64)"
      ]
     },
     "execution_count": 104,
     "metadata": {},
     "output_type": "execute_result"
    }
   ],
   "source": [
    "vectorized_data = tfidf_vectorizer.fit_transform(cleaned_data['text'])\n",
    "nmf_data = nmf.fit_transform(vectorized_data)\n",
    "component_labels = nmf_data.argmax(axis=1)\n",
    "confusion_matrix(cleaned_data['label'], component_labels)"
   ]
  },
  {
   "cell_type": "code",
   "execution_count": 105,
   "metadata": {},
   "outputs": [
    {
     "name": "stdout",
     "output_type": "stream",
     "text": [
      "              precision    recall  f1-score   support\n",
      "\n",
      "           0       0.72      0.83      0.77     11107\n",
      "           1       0.84      0.73      0.78     13246\n",
      "\n",
      "    accuracy                           0.77     24353\n",
      "   macro avg       0.78      0.78      0.77     24353\n",
      "weighted avg       0.78      0.77      0.77     24353\n",
      "\n"
     ]
    }
   ],
   "source": [
    "print(classification_report(cleaned_data['label'], component_labels))"
   ]
  },
  {
   "cell_type": "markdown",
   "metadata": {},
   "source": [
    "Seems a bit low, what if we just work with uncleaned data?"
   ]
  },
  {
   "cell_type": "code",
   "execution_count": 124,
   "metadata": {},
   "outputs": [
    {
     "data": {
      "text/plain": [
       "array([[10588,   519],\n",
       "       [ 6241,  7005]], dtype=int64)"
      ]
     },
     "execution_count": 124,
     "metadata": {},
     "output_type": "execute_result"
    }
   ],
   "source": [
    "nmf = NMF(n_components=2, random_state=1, init='nndsvda', solver='mu')\n",
    "vectorized_data = tfidf_vectorizer.fit_transform(cleaned_data['text'])\n",
    "nmf_data = nmf.fit_transform(vectorized_data)\n",
    "component_labels = nmf_data.argmax(axis=1)\n",
    "\n",
    "confusion_matrix(cleaned_data['label'], component_labels)"
   ]
  },
  {
   "cell_type": "code",
   "execution_count": 125,
   "metadata": {},
   "outputs": [
    {
     "name": "stdout",
     "output_type": "stream",
     "text": [
      "0.7224161294296391\n"
     ]
    }
   ],
   "source": [
    "print(accuracy_score(cleaned_data['label'], component_labels))"
   ]
  },
  {
   "cell_type": "code",
   "execution_count": 109,
   "metadata": {},
   "outputs": [
    {
     "name": "stdout",
     "output_type": "stream",
     "text": [
      "              precision    recall  f1-score   support\n",
      "\n",
      "           0       0.62      0.95      0.75     11107\n",
      "           1       0.93      0.50      0.65     13246\n",
      "\n",
      "    accuracy                           0.71     24353\n",
      "   macro avg       0.77      0.73      0.70     24353\n",
      "weighted avg       0.78      0.71      0.70     24353\n",
      "\n"
     ]
    }
   ],
   "source": [
    "print(classification_report(train['label'], component_labels))"
   ]
  },
  {
   "cell_type": "markdown",
   "metadata": {},
   "source": [
    "No improvement when just using uncleaned data. Scores actually got worse."
   ]
  },
  {
   "cell_type": "markdown",
   "metadata": {},
   "source": [
    "# TF-IDF Vectorized Articles with NMF - Result\n",
    "We still have a relatively low accuracy score of 71%. Perhaps if we add more resolution to the data by vectorizing 2-grams rather than single tokens, we may uncover better components.\n",
    "\n",
    "Note: An n-Gram is n words in sequence. If the string is \"It is sunny today\" then 2-grams would be (it, is), (is, sunny), (sunny, today), rather than single tokens of each word."
   ]
  },
  {
   "cell_type": "code",
   "execution_count": 165,
   "metadata": {},
   "outputs": [
    {
     "name": "stdout",
     "output_type": "stream",
     "text": [
      "Processing ngram range: 2\n",
      "For ngram range 2, accuracy is 0.7614667597421262\n",
      "Processing ngram range: 3\n",
      "For ngram range 3, accuracy is 0.78388699544204\n",
      "Processing ngram range: 4\n",
      "For ngram range 4, accuracy is 0.7926333511271711\n"
     ]
    }
   ],
   "source": [
    "# n-gram vectorization results, 1-5\n",
    "nmf_accuracy_results = []\n",
    "conf_matrices = []\n",
    "for i in range(2, 5):\n",
    "    print(f\"Processing ngram range: {i}\")\n",
    "    nmf = NMF(n_components=2, random_state=1, init=\"nndsvd\")\n",
    "    tfidf_vectorizer = TfidfVectorizer(\n",
    "        max_df=0.95, min_df=2, stop_words=\"english\", ngram_range=(1, i)\n",
    "    )\n",
    "    nmf_data = nmf.fit_transform(tfidf_vectorizer.fit_transform(cleaned_data[\"text\"]))\n",
    "    component_labels = nmf_data.argmax(axis=1)\n",
    "    nmf_accuracy_results.append(accuracy_score(cleaned_data[\"label\"], component_labels))\n",
    "    conf_matrices.append(confusion_matrix(cleaned_data[\"label\"], component_labels))\n",
    "    print(f\"For ngram range {i}, accuracy is {nmf_accuracy_results[-1]}\")"
   ]
  },
  {
   "cell_type": "code",
   "execution_count": 166,
   "metadata": {},
   "outputs": [],
   "source": [
    "# insert the 1gram accuracy from earlier\n",
    "nmf_accuracy_results.insert(0, 0.7224161294296391)"
   ]
  },
  {
   "cell_type": "code",
   "execution_count": 168,
   "metadata": {},
   "outputs": [
    {
     "data": {
      "image/png": "[encoded data removed]",
      "text/plain": [
       "<Figure size 640x480 with 1 Axes>"
      ]
     },
     "metadata": {},
     "output_type": "display_data"
    }
   ],
   "source": [
    "#plot accuracy results\n",
    "plt.plot(range(1, 5), nmf_accuracy_results)\n",
    "plt.xticks(range(1, 5))\n",
    "# insert overlay text\n",
    "for i, txt in enumerate(nmf_accuracy_results):\n",
    "    plt.annotate(f\"{txt:.2f}\", (range(1, 5)[i], nmf_accuracy_results[i]))\n",
    "plt.xlabel(\"N-gram Range\")\n",
    "plt.ylabel(\"Accuracy\")\n",
    "plt.title(\"Accuracy of NMF Model by N-gram Range\")\n",
    "plt.show()"
   ]
  },
  {
   "cell_type": "markdown",
   "metadata": {},
   "source": [
    "# N-Gram with NMF Result\n",
    "Not as good as I had hoped, but better. We seem to hit a wall with what we can accomplish with this method, even when we clean the data and remove stopwords. After 5grams, the calculation time begins to explode and diminishing returns comes into play. Another model is likely necessary to have any appreciable gain in accuracy worth testing with the test dataset."
   ]
  },
  {
   "cell_type": "markdown",
   "metadata": {},
   "source": [
    "# LDA with Vectorized tokens\n",
    "As a final attempt, I will try to use the Latent Dirichlet model to build an unsupervised model which can pick out the relevant datapoints to our analysis."
   ]
  },
  {
   "cell_type": "code",
   "execution_count": 172,
   "metadata": {},
   "outputs": [
    {
     "name": "stdout",
     "output_type": "stream",
     "text": [
      "Processing iteration 1\n",
      "For iteration 1, accuracy is 0.8225680614298033\n",
      "Processing iteration 2\n",
      "For iteration 2, accuracy is 0.4536607399499035\n",
      "Processing iteration 3\n",
      "For iteration 3, accuracy is 0.5478996427544861\n",
      "Processing iteration 4\n",
      "For iteration 4, accuracy is 0.5487619595121751\n"
     ]
    }
   ],
   "source": [
    "lda_accuracy_results = list()\n",
    "for i in range(1, 5):\n",
    "    print(f\"Processing iteration {i}\")\n",
    "    lda = LatentDirichletAllocation(n_components=2, random_state=1)\n",
    "    tfidf_vectorizer = TfidfVectorizer(\n",
    "        max_df=0.95, min_df=2, stop_words=\"english\", ngram_range=(1, i)\n",
    "    )\n",
    "\n",
    "    vectorized_data = tfidf_vectorizer.fit_transform(cleaned_data[\"text\"])\n",
    "    lda_data = lda.fit_transform(vectorized_data)\n",
    "    component_labels = lda_data.argmax(axis=1)\n",
    "    lda_accuracy_results.append(accuracy_score(cleaned_data[\"label\"], component_labels))\n",
    "    print(f\"For iteration {i}, accuracy is {lda_accuracy_results[-1]}\")"
   ]
  },
  {
   "cell_type": "code",
   "execution_count": 177,
   "metadata": {},
   "outputs": [
    {
     "data": {
      "text/plain": [
       "Text(0.5, 1.0, 'Accuracy of LDA vs NMF Model by Iteration')"
      ]
     },
     "execution_count": 177,
     "metadata": {},
     "output_type": "execute_result"
    },
    {
     "data": {
      "image/png": "[encoded data removed]",
      "text/plain": [
       "<Figure size 640x480 with 1 Axes>"
      ]
     },
     "metadata": {},
     "output_type": "display_data"
    }
   ],
   "source": [
    "# plot next to NMF results to show improvement\n",
    "plt.plot(range(1, 5), lda_accuracy_results, color='blue')\n",
    "plt.plot(range(1, 5), nmf_accuracy_results, color='red')\n",
    "plt.xticks(range(1, 5))\n",
    "# legend\n",
    "plt.legend([\"LDA\", \"NMF\"])\n",
    "for i, txt in enumerate(lda_accuracy_results):\n",
    "    plt.annotate(f\"{txt:.2f}\", (range(5)[i], lda_accuracy_results[i]))\n",
    "plt.xlabel(\"Iteration\")\n",
    "plt.ylabel(\"Accuracy\")\n",
    "plt.title(\"Accuracy of LDA vs NMF Model by Iteration\")"
   ]
  },
  {
   "cell_type": "markdown",
   "metadata": {},
   "source": [
    "# What happened!?\n",
    "LDA did not perform at all how I expected it to. The performance started off very good, but became very bad as the TF IDF started adding n-grams to the dataset.\n",
    "\n",
    "Researching the usage of LDA, I realize I was using it incorrectly and perhaps the CountVectorizer could shine here?"
   ]
  },
  {
   "cell_type": "code",
   "execution_count": 178,
   "metadata": {},
   "outputs": [
    {
     "data": {
      "text/plain": [
       "array([[10145,   962],\n",
       "       [ 3186, 10060]], dtype=int64)"
      ]
     },
     "execution_count": 178,
     "metadata": {},
     "output_type": "execute_result"
    }
   ],
   "source": [
    "# use count vec with lda\n",
    "cv = CountVectorizer(max_df=0.95, min_df=2, stop_words='english')\n",
    "lda = LatentDirichletAllocation(n_components=2, random_state=1)\n",
    "\n",
    "vectorized_data = cv.fit_transform(cleaned_data['text'])\n",
    "lda_data = lda.fit_transform(vectorized_data)\n",
    "component_labels = lda_data.argmax(axis=1)\n",
    "\n",
    "confusion_matrix(cleaned_data['label'], component_labels)"
   ]
  },
  {
   "cell_type": "code",
   "execution_count": 183,
   "metadata": {},
   "outputs": [],
   "source": [
    "lda_cv_score = accuracy_score(cleaned_data['label'], component_labels)"
   ]
  },
  {
   "cell_type": "code",
   "execution_count": 204,
   "metadata": {},
   "outputs": [
    {
     "data": {
      "text/plain": [
       "Text(0.5, 1.0, 'Accuracy of LDA vs NMF Model by Iteration')"
      ]
     },
     "execution_count": 204,
     "metadata": {},
     "output_type": "execute_result"
    },
    {
     "data": {
      "image/png": "[encoded data removed]",
      "text/plain": [
       "<Figure size 640x480 with 1 Axes>"
      ]
     },
     "metadata": {},
     "output_type": "display_data"
    }
   ],
   "source": [
    "# plot next to NMF results to show improvement\n",
    "plt.plot(range(1, 5), lda_accuracy_results, color='blue')\n",
    "for i, txt in enumerate(lda_accuracy_results):\n",
    "    plt.annotate(f\"{txt:.2f}\", (range(1,5)[i], lda_accuracy_results[i]))\n",
    "plt.plot(range(1, 5), nmf_accuracy_results, color='red')\n",
    "for i, txt in enumerate(nmf_accuracy_results):\n",
    "    plt.annotate(f\"{txt:.2f}\", (range(1,5)[i], nmf_accuracy_results[i]))\n",
    "plt.plot(1, lda_cv_score, 'go')\n",
    "# add arrow and words pointing this out\n",
    "plt.annotate(\n",
    "        f\"{lda_cv_score:.2f}\", \n",
    "        (1, lda_cv_score), \n",
    "        textcoords=\"offset points\", \n",
    "        xytext=(0,10), \n",
    "        ha='left'\n",
    "    )\n",
    "plt.xticks(range(1, 5))\n",
    "plt.legend([\"LDA\", \"NMF\", 'LDA+CV'])\n",
    "plt.xlabel(\"Iteration\")\n",
    "plt.ylabel(\"Accuracy\")\n",
    "plt.title(\"Accuracy of LDA vs NMF Model by Iteration\")"
   ]
  },
  {
   "cell_type": "markdown",
   "metadata": {},
   "source": [
    "# Final Result\n",
    "As we can see, the LDA with count vectorized data performed the best, as it expects count-vectorized data, and not the type of manipulated data that TF-IDF provides.\n",
    "\n",
    "This result is surprising, and helped me learn more about which data transformation types help complement which models."
   ]
  }
 ],
 "metadata": {
  "kernelspec": {
   "display_name": ".venv",
   "language": "python",
   "name": "python3"
  },
  "language_info": {
   "codemirror_mode": {
    "name": "ipython",
    "version": 3
   },
   "file_extension": ".py",
   "mimetype": "text/x-python",
   "name": "python",
   "nbconvert_exporter": "python",
   "pygments_lexer": "ipython3",
   "version": "3.12.6"
  }
 },
 "nbformat": 4,
 "nbformat_minor": 2
}
